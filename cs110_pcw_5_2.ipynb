{
 "cells": [
  {
   "cell_type": "markdown",
   "metadata": {
    "collapsed": false
   },
   "source": [
    "Before you turn this problem in, make sure everything runs as expected. First, **restart the kernel** (in the menubar, select Kernel$\\rightarrow$Restart) and then **run all cells** (in the menubar, select Cell$\\rightarrow$Run All).\n",
    "\n",
    "Make sure you fill in any place that says `YOUR CODE HERE` or \"YOUR ANSWER HERE\", as well as your name and collaborators below:"
   ]
  },
  {
   "cell_type": "code",
   "execution_count": 0,
   "metadata": {
    "collapsed": false
   },
   "outputs": [
   ],
   "source": [
    "NAME = \"\"\n",
    "COLLABORATORS = \"\""
   ]
  },
  {
   "cell_type": "markdown",
   "metadata": {
    "collapsed": false
   },
   "source": [
    "---"
   ]
  },
  {
   "cell_type": "markdown",
   "metadata": {
    "collapsed": false,
    "deletable": false,
    "editable": false,
    "nbgrader": {
     "checksum": "1a4c3cfc3c34bf644ee45d91835b6f70",
     "grade": false,
     "grade_id": "cell-61b183447ded09ef",
     "locked": true,
     "schema_version": 1,
     "solution": false
    }
   },
   "source": [
    "# CS110 Pre-class Work 5.2\n",
    "\n",
    "## Question 1.\n",
    "Using Figure 7.1 in Cormen et al. as a model, perform manually the partition process on the following list: A = [1,5,6,2,3,8,9,4,7]. You just need to specify the followings:\n",
    "1. The array after the process is done.\n",
    "2. The value of $i$ after the process is done."
   ]
  },
  {
   "cell_type": "markdown",
   "metadata": {
    "collapsed": false,
    "deletable": false,
    "nbgrader": {
     "checksum": "06dce98d07f8f042785a795b32e7ef75",
     "grade": true,
     "grade_id": "cell-7aa520f8af13679b",
     "locked": false,
     "points": 0,
     "schema_version": 1,
     "solution": true
    }
   },
   "source": [
    "1. The array after the process is done is A=[1,5,6,2,3,4,7,9,8]. This is achieved by following the partition process in Cormen: take 7 as the pivot, and then compare each element from the first (1) to the second to last (4) with 7, then make changes accordingly. \n",
    "\n",
    "2. The value of i is i=5 after the process is done. 7 (the pivot) is inserted into A[i+1]=A[6] after all the comparisons are done."
   ]
  },
  {
   "cell_type": "markdown",
   "metadata": {
    "collapsed": false,
    "deletable": false,
    "editable": false,
    "nbgrader": {
     "checksum": "21059776e9083caf84e8abb5b6fb893e",
     "grade": false,
     "grade_id": "cell-6c0a9dfd6980c336",
     "locked": true,
     "schema_version": 1,
     "solution": false
    }
   },
   "source": [
    "## Question 2.\n",
    "Code up a Python implementation of `partition(A, p, r)`, closely follow the pseudo-code in Cormen et al., p.172. Your function should return the index of the pivot in the array."
   ]
  },
  {
   "cell_type": "code",
   "execution_count": 11,
   "metadata": {
    "collapsed": false,
    "deletable": false,
    "nbgrader": {
     "checksum": "395997ac94ed1416c67b22f7977c07a5",
     "grade": false,
     "grade_id": "cell-1ceb2600756c60ff",
     "locked": false,
     "schema_version": 1,
     "solution": true
    }
   },
   "outputs": [
   ],
   "source": [
    "def partition(A,p,r): #Assume that we sort the entire array. The value of p as the input is therefore 0, and the value of r is len(A)-1\n",
    "    x = A[r] #r is len(A)-1, not len(A) so this is not out of range\n",
    "    i = p-1 #the index of numbers smaller than the pivot\n",
    "    for j in range(p,r): #we only consider from the beginning up to the second to last element, since the last element is the pivot\n",
    "        if A[j] <= x: \n",
    "            i += 1 #if an element is smaller than the pivot, increment the index of small numbers by 1, and exchange. If it's larger, do nothing\n",
    "            A[i],A[j]=A[j],A[i]\n",
    "    A[i+1],A[r]=A[r],A[i+1] #swap the pivot to the place just after the small number array\n",
    "    return  i+1\n",
    "    \n",
    "    \"\"\"\n",
    "    Assume r<len(A) and p>=0\n",
    "    \"\"\"\n",
    "    # YOUR CODE HERE\n",
    "    raise NotImplementedError()"
   ]
  },
  {
   "cell_type": "code",
   "execution_count": 13,
   "metadata": {
    "collapsed": false,
    "deletable": false,
    "editable": false,
    "nbgrader": {
     "checksum": "34aa315313b6f9d8de8efe0922e5b563",
     "grade": true,
     "grade_id": "cell-a57b60117a7b82fb",
     "locked": true,
     "points": 1,
     "schema_version": 1,
     "solution": false
    }
   },
   "outputs": [
   ],
   "source": [
    "A = [1,5,6,2,3,8,9,4,7]\n",
    "assert(partition(A, 0, len(A)-1)==6)"
   ]
  },
  {
   "cell_type": "markdown",
   "metadata": {
    "collapsed": false,
    "deletable": false,
    "editable": false,
    "nbgrader": {
     "checksum": "3496e310776eba92a8290d114db627cd",
     "grade": false,
     "grade_id": "cell-cd490c45f6733522",
     "locked": true,
     "schema_version": 1,
     "solution": false
    }
   },
   "source": [
    "## Question 3.\n",
    "\n",
    "Code up your own Python implementation of `quicksort(A, p, r)`, using `partition(A,p,r)`."
   ]
  },
  {
   "cell_type": "code",
   "execution_count": 36,
   "metadata": {
    "collapsed": false,
    "deletable": false,
    "nbgrader": {
     "checksum": "7e40c51fd1bd31c790aa0dd8abde1fb7",
     "grade": false,
     "grade_id": "cell-8c39ebb8cd1aa83a",
     "locked": false,
     "schema_version": 1,
     "solution": true
    }
   },
   "outputs": [
   ],
   "source": [
    "def quick_sort(A,p,r):\n",
    "    if p<r:\n",
    "        q = partition(A,p,r) #partition to find the point to split up A\n",
    "        quick_sort(A,p,q-1) #recursively calls quick sort on the two split arrays\n",
    "        quick_sort(A,q+1,r)\n",
    "        return A \n",
    "    else:\n",
    "        return A #if there's only one element in the list to be sorted, just return the list\n",
    "    # YOUR CODE HERE\n",
    "    #raise NotImplementedError()"
   ]
  },
  {
   "cell_type": "code",
   "execution_count": 37,
   "metadata": {
    "collapsed": false,
    "deletable": false,
    "editable": false,
    "nbgrader": {
     "checksum": "80923d1142f0ef958a616db1105a8c1a",
     "grade": true,
     "grade_id": "cell-4f822430efd456ee",
     "locked": true,
     "points": 1,
     "schema_version": 1,
     "solution": false
    }
   },
   "outputs": [
   ],
   "source": [
    "A = [0]\n",
    "assert(quick_sort(A, 0, 0) == [0])\n",
    "A = [3,1,2]\n",
    "assert(quick_sort(A, 0, 2) == [1,2,3])"
   ]
  },
  {
   "cell_type": "markdown",
   "metadata": {
    "collapsed": false,
    "deletable": false,
    "editable": false,
    "nbgrader": {
     "checksum": "741cfe874ccaef343713f81ec963360c",
     "grade": false,
     "grade_id": "cell-53941fba9302c591",
     "locked": true,
     "schema_version": 1,
     "solution": false
    }
   },
   "source": [
    "## Question 4. \n",
    "Explain (using experimental plots) the running time of `quick_sort` when: \n",
    "1. all elements of array A have the same value (e.g., [1,1,1])?\n",
    "2. array A contains distinct elements sorted in decreasing order (e.g., [5,4,2,1])?\n"
   ]
  },
  {
   "cell_type": "code",
   "execution_count": 43,
   "metadata": {
    "collapsed": false,
    "deletable": false,
    "nbgrader": {
     "checksum": "f5ddaf0e684d72d229df078b18f321f8",
     "grade": true,
     "grade_id": "cell-b58035dd5fa02329",
     "locked": false,
     "points": 0,
     "schema_version": 1,
     "solution": true
    },
    "scrolled": true
   },
   "outputs": [
   ],
   "source": [
    "#First, we create a list of lists that contains the two required characteristics above: all elements have same value, or decreasing order. The lists inside this list of lists will have different numbers of elements.\n",
    "import random\n",
    "size = [i for i in range(0,500,5)] #create different lengths for our element lists\n",
    "\n",
    "#create all same element lists: Since the value of the elements does not matter (what matters is the relationship between them), I leave all values to be 1.\n",
    "same_list = [[] for i in range(len(size))]\n",
    "for i in range (len(size)):\n",
    "    same_list[i]=[1 for j in range(size[i])]\n",
    "    \n",
    "#create inverse lists:\n",
    "inverse_list=[[] for i in range(len(size))]\n",
    "for i in range(len(size)):\n",
    "    inverse_list[i]=[j for j in range(size[i],0,-1)]\n"
   ]
  },
  {
   "cell_type": "code",
   "execution_count": 54,
   "metadata": {
    "collapsed": false
   },
   "outputs": [
   ],
   "source": [
    "#Now, we record the running time of the algorithm on these lists. \n",
    "import time\n",
    "time_same = [] #create empty lists to store run time later on\n",
    "time_inverse=[]\n",
    "for i in same_list:\n",
    "    start = time.time()\n",
    "    quick_sort(i,0,len(i)-1)\n",
    "    end = time.time()\n",
    "    time_taken = end - start\n",
    "    time_same.append(time_taken) #we now have the list of runtime of quick sort for list with all similar elements\n",
    "\n",
    "#Similarly:\n",
    "for i in inverse_list:\n",
    "    start2 = time.time()\n",
    "    quick_sort(i,0,len(i)-1)\n",
    "    end2 = time.time()\n",
    "    time_taken2 = end2 - start2\n",
    "    time_inverse.append(time_taken2)\n"
   ]
  },
  {
   "cell_type": "code",
   "execution_count": 55,
   "metadata": {
    "collapsed": false
   },
   "outputs": [
    {
     "data": {
      "text/plain": [
       "<matplotlib.legend.Legend at 0x7f05a87c6da0>"
      ]
     },
     "execution_count": 55,
     "metadata": {
     },
     "output_type": "execute_result"
    },
    {
     "data": {
      "image/png": "[encoded data removed]",
      "text/plain": [
       "<Figure size 432x288 with 1 Axes>"
      ]
     },
     "execution_count": 55,
     "metadata": {
      "image/png": {
       "height": 248,
       "width": 378
      }
     },
     "output_type": "execute_result"
    }
   ],
   "source": [
    "import matplotlib.pyplot as plt #now we graph the run time\n",
    "plt.plot(size,time_same)\n",
    "plt.plot(size,time_inverse)\n",
    "plt.legend([\"List with similar elements\",'inverse list'])"
   ]
  },
  {
   "cell_type": "markdown",
   "metadata": {
    "collapsed": false
   },
   "source": [
    "From the above plot, we see that the running time of quick sort for both types  of lists are relatively similar. This is quite in line with theoretical benchmarks: For lists that are inverse, the partition process which chooses the last element as the pivot will split the array into one blank array and one array with length(n-1) (the pivot will eventually be moved to the beginning, and the recursion continues with the left array, which is blank, and the right array which has length of n-1). In this case, i=0. This is a \"bad split\", and the subsequent splits during the recursion will also be bad splits since the input list is perfectly inversed. And as mentioned in Cormen et al., the recurrence for this case becomes T(n-1) + T(0) + $\\theta(n)$ = T(n-1) + $\\theta(n)$, which has the solution T(n)=$\\theta(n^2)$. Therefore, the inverse list would trigger a worst case scenario.\n",
    "\n",
    "Similarly, for a list with similar elements, the partition process will return one blank array (on the right) and one array with length(n-1) on the left. This is because in the partition process, we trigger the swaps and increment i when the element is $<=$ the pivot. Thus, in this case, i=n-1. This is a bad split. Since all of the elements in the input lists are the same, the subsequent splits will also be bad splits. Therefore, similar to above, the recurrence becomes T(0) + T(n-1) + $\\theta(n)$ = T(n-1) + $\\theta(n)$, which has the solution T(n)=$\\theta(n^2)$. Therefore, the same_list would also trigger a worst case scenario."
   ]
  },
  {
   "cell_type": "code",
   "execution_count": 0,
   "metadata": {
    "collapsed": false
   },
   "outputs": [
   ],
   "source": [
   ]
  }
 ],
 "metadata": {
  "kernelspec": {
   "display_name": "Python 3 (system-wide)",
   "language": "python",
   "metadata": {
    "cocalc": {
     "description": "Python 3 programming language",
     "priority": 100,
     "url": "https://www.python.org/"
    }
   },
   "name": "python3"
  },
  "language_info": {
   "codemirror_mode": {
    "name": "ipython",
    "version": 3
   },
   "file_extension": ".py",
   "mimetype": "text/x-python",
   "name": "python",
   "nbconvert_exporter": "python",
   "pygments_lexer": "ipython3",
   "version": "3.6.9"
  }
 },
 "nbformat": 4,
 "nbformat_minor": 0
}